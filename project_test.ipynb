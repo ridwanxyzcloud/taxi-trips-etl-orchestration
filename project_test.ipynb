{
 "cells": [
  {
   "cell_type": "code",
   "execution_count": null,
   "metadata": {},
   "outputs": [],
   "source": [
    "!pip install sqlalchemy clickhouse-connect python-dotenv"
   ]
  },
  {
   "cell_type": "code",
   "execution_count": 21,
   "metadata": {},
   "outputs": [
    {
     "name": "stdout",
     "output_type": "stream",
     "text": [
      "Error: Unable to connect to the PostgreSQL database.\n",
      "(psycopg2.OperationalError) connection to server on socket \"@localhost/.s.PGSQL.5432\" failed: No such file or directory\n",
      "\tIs the server running locally and accepting connections on that socket?\n",
      "\n",
      "(Background on this error at: https://sqlalche.me/e/20/e3q8)\n"
     ]
    }
   ],
   "source": [
    "import os\n",
    "from dotenv import load_dotenv\n",
    "from sqlalchemy import create_engine\n",
    "\n",
    "# Load environment variables from .env file\n",
    "load_dotenv(override=True)\n",
    "\n",
    "def get_postgres_engine():\n",
    "    try:\n",
    "        engine = create_engine(\"postgresql+psycopg2://{user}:{password}@{host}:{port}/{dbname}\".format(\n",
    "                                user=os.getenv('pg_user'),\n",
    "                                password=os.getenv('pg_password'),\n",
    "                                host=os.getenv('pg_host'), \n",
    "                                port=os.getenv('pg_port'), \n",
    "                                dbname=os.getenv('pg_dbname')\n",
    "                                )\n",
    "                              )\n",
    "        with engine.connect() as connection:\n",
    "            print(\"Connection to the PostgreSQL database was successful!\")\n",
    "    except Exception as e:\n",
    "        print(\"Error: Unable to connect to the PostgreSQL database.\")\n",
    "        print(e)\n",
    "\n",
    "if __name__ == \"__main__\":\n",
    "    get_postgres_engine()\n"
   ]
  },
  {
   "cell_type": "code",
   "execution_count": null,
   "metadata": {},
   "outputs": [],
   "source": []
  }
 ],
 "metadata": {
  "kernelspec": {
   "display_name": "venv",
   "language": "python",
   "name": "python3"
  },
  "language_info": {
   "codemirror_mode": {
    "name": "ipython",
    "version": 3
   },
   "file_extension": ".py",
   "mimetype": "text/x-python",
   "name": "python",
   "nbconvert_exporter": "python",
   "pygments_lexer": "ipython3",
   "version": "3.11.7"
  }
 },
 "nbformat": 4,
 "nbformat_minor": 2
}
