{
 "cells": [
  {
   "cell_type": "code",
   "execution_count": 2,
   "metadata": {},
   "outputs": [
    {
     "name": "stdout",
     "output_type": "stream",
     "text": [
      "Requirement already satisfied: sqlalchemy in c:\\users\\villy\\appdata\\local\\packages\\pythonsoftwarefoundation.python.3.10_qbz5n2kfra8p0\\localcache\\local-packages\\python310\\site-packages (1.4.52)\n",
      "Requirement already satisfied: clickhouse-connect in c:\\users\\villy\\appdata\\local\\packages\\pythonsoftwarefoundation.python.3.10_qbz5n2kfra8p0\\localcache\\local-packages\\python310\\site-packages (0.7.15)\n",
      "Requirement already satisfied: python-dotenv in c:\\users\\villy\\appdata\\local\\packages\\pythonsoftwarefoundation.python.3.10_qbz5n2kfra8p0\\localcache\\local-packages\\python310\\site-packages (1.0.1)\n",
      "Requirement already satisfied: greenlet!=0.4.17 in c:\\users\\villy\\appdata\\local\\packages\\pythonsoftwarefoundation.python.3.10_qbz5n2kfra8p0\\localcache\\local-packages\\python310\\site-packages (from sqlalchemy) (3.0.3)\n",
      "Requirement already satisfied: certifi in c:\\users\\villy\\appdata\\local\\packages\\pythonsoftwarefoundation.python.3.10_qbz5n2kfra8p0\\localcache\\local-packages\\python310\\site-packages (from clickhouse-connect) (2024.6.2)\n",
      "Requirement already satisfied: urllib3>=1.26 in c:\\users\\villy\\appdata\\local\\packages\\pythonsoftwarefoundation.python.3.10_qbz5n2kfra8p0\\localcache\\local-packages\\python310\\site-packages (from clickhouse-connect) (2.2.1)\n",
      "Requirement already satisfied: pytz in c:\\users\\villy\\appdata\\local\\packages\\pythonsoftwarefoundation.python.3.10_qbz5n2kfra8p0\\localcache\\local-packages\\python310\\site-packages (from clickhouse-connect) (2024.1)\n",
      "Requirement already satisfied: zstandard in c:\\users\\villy\\appdata\\local\\packages\\pythonsoftwarefoundation.python.3.10_qbz5n2kfra8p0\\localcache\\local-packages\\python310\\site-packages (from clickhouse-connect) (0.22.0)\n",
      "Requirement already satisfied: lz4 in c:\\users\\villy\\appdata\\local\\packages\\pythonsoftwarefoundation.python.3.10_qbz5n2kfra8p0\\localcache\\local-packages\\python310\\site-packages (from clickhouse-connect) (4.3.3)\n"
     ]
    },
    {
     "name": "stderr",
     "output_type": "stream",
     "text": [
      "\n",
      "[notice] A new release of pip is available: 24.0 -> 24.1.1\n",
      "[notice] To update, run: C:\\Users\\villy\\AppData\\Local\\Microsoft\\WindowsApps\\PythonSoftwareFoundation.Python.3.10_qbz5n2kfra8p0\\python.exe -m pip install --upgrade pip\n"
     ]
    }
   ],
   "source": [
    "!pip install sqlalchemy clickhouse-connect python-dotenv"
   ]
  },
  {
   "cell_type": "code",
   "execution_count": 21,
   "metadata": {},
   "outputs": [
    {
     "name": "stdout",
     "output_type": "stream",
     "text": [
      "Error: Unable to connect to the PostgreSQL database.\n",
      "(psycopg2.OperationalError) connection to server on socket \"@localhost/.s.PGSQL.5432\" failed: No such file or directory\n",
      "\tIs the server running locally and accepting connections on that socket?\n",
      "\n",
      "(Background on this error at: https://sqlalche.me/e/20/e3q8)\n"
     ]
    }
   ],
   "source": [
    "import os\n",
    "from dotenv import load_dotenv\n",
    "from sqlalchemy import create_engine\n",
    "\n",
    "# Load environment variables from .env file\n",
    "load_dotenv(override=True)\n",
    "\n",
    "def get_postgres_engine():\n",
    "    try:\n",
    "        engine = create_engine(\"postgresql+psycopg2://{user}:{password}@{host}:{port}/{dbname}\".format(\n",
    "                                user=os.getenv('pg_user'),\n",
    "                                password=os.getenv('pg_password'),\n",
    "                                host=os.getenv('pg_host'), \n",
    "                                port=os.getenv('pg_port'), \n",
    "                                dbname=os.getenv('pg_dbname')\n",
    "                                )\n",
    "                              )\n",
    "        with engine.connect() as connection:\n",
    "            print(\"Connection to the PostgreSQL database was successful!\")\n",
    "    except Exception as e:\n",
    "        print(\"Error: Unable to connect to the PostgreSQL database.\")\n",
    "        print(e)\n",
    "\n",
    "if __name__ == \"__main__\":\n",
    "    get_postgres_engine()\n"
   ]
  },
  {
   "cell_type": "code",
   "execution_count": null,
   "metadata": {},
   "outputs": [],
   "source": []
  }
 ],
 "metadata": {
  "kernelspec": {
   "display_name": "venv",
   "language": "python",
   "name": "python3"
  },
  "language_info": {
   "codemirror_mode": {
    "name": "ipython",
    "version": 3
   },
   "file_extension": ".py",
   "mimetype": "text/x-python",
   "name": "python",
   "nbconvert_exporter": "python",
   "pygments_lexer": "ipython3",
   "version": "3.10.11"
  }
 },
 "nbformat": 4,
 "nbformat_minor": 2
}
